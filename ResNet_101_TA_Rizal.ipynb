{
  "nbformat": 4,
  "nbformat_minor": 0,
  "metadata": {
    "colab": {
      "provenance": []
    },
    "kernelspec": {
      "name": "python3",
      "display_name": "Python 3"
    },
    "language_info": {
      "name": "python"
    }
  },
  "cells": [
    {
      "cell_type": "code",
      "execution_count": null,
      "metadata": {
        "id": "3ruB53JInvgP"
      },
      "outputs": [],
      "source": [
        "import matplotlib.pyplot as plt\n",
        "import numpy as np\n",
        "import os\n",
        "import PIL\n",
        "import tensorflow as tf\n",
        "from tensorflow import keras\n",
        "from tensorflow.keras import layers\n",
        "from tensorflow.python.keras.layers import Dense, Flatten\n",
        "from tensorflow.keras.models import Sequential\n",
        "from tensorflow.keras.optimizers import Adam\n",
        "from tensorflow.keras.preprocessing.image import ImageDataGenerator\n",
        "from tensorflow.keras.preprocessing import image\n"
      ]
    },
    {
      "cell_type": "markdown",
      "metadata": {
        "id": "Ir0q0GyfgmSI"
      },
      "source": [
        "# Persiapan Data"
      ]
    },
    {
      "cell_type": "code",
      "metadata": {
        "id": "PHnTPoBoa7Mu"
      },
      "source": [
        "import pathlib\n",
        "dataset_url = \"/content/drive/MyDrive/basedata/train\"\n",
        "data_dir = pathlib.Path(dataset_url)"
      ],
      "execution_count": null,
      "outputs": []
    },
    {
      "cell_type": "code",
      "metadata": {
        "colab": {
          "base_uri": "https://localhost:8080/"
        },
        "id": "P68Vb_6lcqKG",
        "outputId": "8b066cd9-5ff0-4824-b14c-12f5a3d19eb8"
      },
      "source": [
        "img_height,img_width=180,180\n",
        "batch_size=32\n",
        "train_ds = tf.keras.preprocessing.image_dataset_from_directory(\n",
        "  data_dir,\n",
        "  validation_split=0.2,\n",
        "  subset=\"training\",\n",
        "  seed=123,\n",
        "  label_mode='categorical',\n",
        "  image_size=(img_height, img_width),\n",
        "  batch_size=batch_size)"
      ],
      "execution_count": null,
      "outputs": [
        {
          "output_type": "stream",
          "name": "stdout",
          "text": [
            "Found 1200 files belonging to 6 classes.\n",
            "Using 960 files for training.\n"
          ]
        }
      ]
    },
    {
      "cell_type": "code",
      "metadata": {
        "colab": {
          "base_uri": "https://localhost:8080/"
        },
        "id": "VA-1Jqlscs-Y",
        "outputId": "07a7c718-c0bb-4b3f-b210-99bc4cdac918"
      },
      "source": [
        "val_ds = tf.keras.preprocessing.image_dataset_from_directory(\n",
        "  data_dir,\n",
        "  validation_split=0.2,\n",
        "  subset=\"validation\",\n",
        "  seed=123,\n",
        "  label_mode='categorical',\n",
        "  image_size=(img_height, img_width),\n",
        "  batch_size=batch_size)"
      ],
      "execution_count": null,
      "outputs": [
        {
          "output_type": "stream",
          "name": "stdout",
          "text": [
            "Found 1200 files belonging to 6 classes.\n",
            "Using 240 files for validation.\n"
          ]
        }
      ]
    },
    {
      "cell_type": "code",
      "metadata": {
        "colab": {
          "base_uri": "https://localhost:8080/"
        },
        "id": "Ytv1zV7UcvPY",
        "outputId": "302497bc-9c92-4dfd-d901-b835513a064f"
      },
      "source": [
        "class_names = train_ds.class_names\n",
        "print(class_names)"
      ],
      "execution_count": null,
      "outputs": [
        {
          "output_type": "stream",
          "name": "stdout",
          "text": [
            "['bmx', 'motor matic', 'motosport', 'mtb', 'suv', 'van']\n"
          ]
        }
      ]
    },
    {
      "cell_type": "markdown",
      "metadata": {
        "id": "jK5tHnEpggbu"
      },
      "source": [
        "# Melatih Dataset\n"
      ]
    },
    {
      "cell_type": "code",
      "source": [
        "# Mendapatkan informasi tentang kelas dari ImageNetLabels\n",
        "labels_path = tf.keras.utils.get_file('ImageNetLabels.txt', 'https://storage.googleapis.com/download.tensorflow.org/data/ImageNetLabels.txt')\n",
        "with open(labels_path) as f:\n",
        "    labels = f.read().splitlines()\n",
        "\n",
        "# Menampilkan 1000 kelas\n",
        "for i, label in enumerate(labels):\n",
        "    if i < 1000:\n",
        "        print(f\"Class {i}: {label}\")\n",
        "    else:\n",
        "        break"
      ],
      "metadata": {
        "id": "qyH5S6JQx6DW"
      },
      "execution_count": null,
      "outputs": []
    },
    {
      "cell_type": "code",
      "metadata": {
        "id": "0AzdT8-Ya_lO"
      },
      "source": [
        "resnet_model = Sequential()\n",
        "\n",
        "pretrained_model= tf.keras.applications.ResNet101(\n",
        "                   include_top=False,\n",
        "                   input_shape=(180,180,3),\n",
        "                   pooling='avg',\n",
        "                   classes=6,\n",
        "                   weights='imagenet')\n",
        "for layer in pretrained_model.layers:\n",
        "        layer.trainable=False\n",
        "\n",
        "resnet_model.add(pretrained_model)\n",
        "resnet_model.add(Flatten())\n",
        "resnet_model.add(Dense(512, activation='relu'))\n",
        "resnet_model.add(Dense(6, activation='sigmoid'))"
      ],
      "execution_count": null,
      "outputs": []
    },
    {
      "cell_type": "code",
      "metadata": {
        "id": "zAgSK9fAbp6y"
      },
      "source": [
        "resnet_model.summary()"
      ],
      "execution_count": null,
      "outputs": []
    },
    {
      "cell_type": "code",
      "metadata": {
        "id": "vPCJsk68dm40"
      },
      "source": [
        "resnet_model.compile(optimizer=Adam(learning_rate=0.001),loss='categorical_crossentropy',metrics=['accuracy'])"
      ],
      "execution_count": null,
      "outputs": []
    },
    {
      "cell_type": "code",
      "metadata": {
        "id": "wXEYsGTaeFi4"
      },
      "source": [
        "epochs=10\n",
        "history = resnet_model.fit(\n",
        "  train_ds,\n",
        "  validation_data=val_ds,\n",
        "  epochs=epochs\n",
        ")"
      ],
      "execution_count": null,
      "outputs": []
    },
    {
      "cell_type": "markdown",
      "metadata": {
        "id": "ggs5y5NcgcAH"
      },
      "source": [
        "# Evaluasi Model"
      ]
    },
    {
      "cell_type": "code",
      "metadata": {
        "id": "vAjGo1SvePCE"
      },
      "source": [
        "fig1 = plt.gcf()\n",
        "plt.plot(history.history['accuracy'])\n",
        "plt.plot(history.history['val_accuracy'])\n",
        "plt.axis(ymin=0.4,ymax=1)\n",
        "plt.grid()\n",
        "plt.title('Model Accuracy')\n",
        "plt.ylabel('Accuracy')\n",
        "plt.xlabel('Epochs')\n",
        "plt.legend(['train', 'validation'])\n",
        "plt.show()"
      ],
      "execution_count": null,
      "outputs": []
    },
    {
      "cell_type": "code",
      "metadata": {
        "id": "rEUy8LNOeCVF"
      },
      "source": [
        "plt.plot(history.history['loss'])\n",
        "plt.plot(history.history['val_loss'])\n",
        "plt.grid()\n",
        "plt.title('Model Loss')\n",
        "plt.ylabel('Loss')\n",
        "plt.xlabel('Epochs')\n",
        "plt.legend(['train', 'validation'])\n",
        "plt.show()"
      ],
      "execution_count": null,
      "outputs": []
    },
    {
      "cell_type": "code",
      "metadata": {
        "id": "SLbvPRHXgHGO"
      },
      "source": [
        "# Save Model\n",
        "resnet_model.save_weights('sequential.h5')"
      ],
      "execution_count": null,
      "outputs": []
    },
    {
      "cell_type": "markdown",
      "metadata": {
        "id": "dE5MsVdegXVj"
      },
      "source": [
        "# Prediksi Kelas"
      ]
    },
    {
      "cell_type": "code",
      "metadata": {
        "id": "KCURoyOpemgA"
      },
      "source": [
        "import cv2\n",
        "\n",
        "image_path = 'mtb.jpeg'\n",
        "image=cv2.imread(str(image_path))\n",
        "image_resized= cv2.resize(image, (img_height,img_width))\n",
        "image=np.expand_dims(image_resized,axis=0)\n",
        "print(image.shape)\n",
        "PIL.Image.open(str(image_path))\n"
      ],
      "execution_count": null,
      "outputs": []
    },
    {
      "cell_type": "code",
      "metadata": {
        "id": "G1pSzemJe19G"
      },
      "source": [
        "pred=resnet_model.predict(image)\n",
        "print(pred)"
      ],
      "execution_count": null,
      "outputs": []
    },
    {
      "cell_type": "code",
      "metadata": {
        "id": "iudnVH8yfpFH"
      },
      "source": [
        "output_class_id = np.argmax(pred)\n",
        "output_class = class_names[output_class_id]\n",
        "score = np.array(pred)\n",
        "print(\"Gambar tersebut adalah id kelas =\", output_class_id)\n",
        "print(\"Gambar tersebut adalah kelas =\", output_class)\n",
        "print(\"Skor dari gambar tersebut adalah =\", score.max())"
      ],
      "execution_count": null,
      "outputs": []
    },
    {
      "cell_type": "markdown",
      "source": [
        "**==========================================================**"
      ],
      "metadata": {
        "id": "8Fh5Gnbb_spC"
      }
    },
    {
      "cell_type": "markdown",
      "metadata": {
        "id": "F3gxwNbPCiSx"
      },
      "source": [
        "# Prediksi Kelas Sebelum Tahap *Transfer Learning*"
      ]
    },
    {
      "cell_type": "code",
      "source": [
        "import torch\n",
        "from torchvision.models import resnet101, ResNet101_Weights\n",
        "from pprint import pprint\n",
        "from PIL import Image\n",
        "\n",
        "weights = ResNet101_Weights.DEFAULT\n",
        "preprocess = weights.transforms()\n",
        "\n",
        "resnet = resnet101(weights=weights)\n",
        "img = Image.open('gambar1.png')\n",
        "img = img.convert('RGB')\n",
        "pprint(f\"ukuran gambar sebelum preprocess= {img.size}\")\n",
        "\n",
        "img = preprocess(img)\n",
        "pprint(f\"Bentuk gambar sesudah preprocess = {img.shape}\")\n",
        "\n",
        "batch = img.unsqueeze(0)\n",
        "# Unsqueeze(0) karena hanya memproses satu gambar\n",
        "pprint(f\"Batch gambar = {batch.shape}\")\n",
        "\n",
        "resnet.eval()\n",
        "prediction = resnet(batch).squeeze(0).softmax(0)\n",
        "class_id = prediction.argmax()\n",
        "score = prediction[class_id].item()\n",
        "label = weights.meta[\"categories\"][class_id]\n",
        "pprint(f\"class prediction = {class_id}, Score = {score}, label={label}\")"
      ],
      "metadata": {
        "id": "PNvtQIziCwWd"
      },
      "execution_count": null,
      "outputs": []
    }
  ]
}